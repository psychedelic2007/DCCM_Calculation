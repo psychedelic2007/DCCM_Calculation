library(bio3d)
library(viridis)
library(fields)

# Load the DCD file for System A (free protein)
dcdfile_A <- "protein.dcd"
dcd_A <- read.dcd(dcdfile_A)

# Load the DCD file for System B (protein with ligand)
dcdfile_B <- "protein_fad.dcd"
dcd_B <- read.dcd(dcdfile_B)

# Load the PDB file (common for both systems)
pdbfile <- "3dk9.pdb"
pdb <- read.pdb(pdbfile)

# Select CA atoms
ca.inds <- atom.select(pdb, elety = "CA")

# Fit the coordinates for System A
xyz_A <- fit.xyz(fixed = pdb$xyz, mobile = dcd_A, fixed.inds = ca.inds$xyz, mobile.inds = ca.inds$xyz)

# Fit the coordinates for System B
xyz_B <- fit.xyz(fixed = pdb$xyz, mobile = dcd_B, fixed.inds = ca.inds$xyz, mobile.inds = ca.inds$xyz)

# Calculate DCCM for System A
cij_A <- dccm(xyz_A[, ca.inds$xyz])

# Calculate DCCM for System B
cij_B <- dccm(xyz_B[, ca.inds$xyz])

# Create a single DCCM matrix with the upper triangle for System A and lower triangle for System B
full_cij <- matrix(0, nrow = nrow(cij_A), ncol = ncol(cij_A))
full_cij[upper.tri(full_cij)] <- cij_A[upper.tri(cij_A)]
full_cij[lower.tri(full_cij)] <- cij_B[lower.tri(cij_B)]

# Set the color palette to viridis
col_fun <- viridis::viridis(100)

# Increase fontsize of x and y axis labels and ticks
par(cex.axis = 5, cex.lab = 5)

# Save the plot in PNG format at 300 DPI
png("dccm_plot.png", width = 8, height = 8, units = "in", res = 300)
image.plot(full_cij, 
      col = col_fun, 
      xlab = "Residue", 
      ylab = "Residue",
      legend.shrink = 0.8)  # Adjust the size of the color bar
dev.off()  # Close the PNG device
